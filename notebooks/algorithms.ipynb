{
 "cells": [
  {
   "cell_type": "code",
   "execution_count": 69,
   "metadata": {},
   "outputs": [],
   "source": [
    "import pandas as pd\n",
    "import numpy as np\n",
    "import seaborn as sns\n",
    "import matplotlib.pyplot as plt\n",
    "from sklearn.model_selection import train_test_split\n",
    "from sklearn.linear_model import LogisticRegression\n",
    "from sklearn.neighbors import KNeighborsClassifier\n",
    "from sklearn.naive_bayes import GaussianNB\n",
    "from sklearn.tree import DecisionTreeClassifier\n",
    "from sklearn.ensemble import AdaBoostClassifier, RandomForestClassifier\n",
    "from sklearn.model_selection import RandomizedSearchCV\n",
    "from sklearn.metrics import confusion_matrix, ConfusionMatrixDisplay\n",
    "import time\n",
    "from sklearn.metrics import classification_report\n",
    "from sklearn.metrics import accuracy_score\n",
    "from sklearn.model_selection import GridSearchCV\n",
    "from sklearn.svm import SVC\n"
   ]
  },
  {
   "cell_type": "code",
   "execution_count": 70,
   "metadata": {},
   "outputs": [
    {
     "data": {
      "text/html": [
       "<div>\n",
       "<style scoped>\n",
       "    .dataframe tbody tr th:only-of-type {\n",
       "        vertical-align: middle;\n",
       "    }\n",
       "\n",
       "    .dataframe tbody tr th {\n",
       "        vertical-align: top;\n",
       "    }\n",
       "\n",
       "    .dataframe thead th {\n",
       "        text-align: right;\n",
       "    }\n",
       "</style>\n",
       "<table border=\"1\" class=\"dataframe\">\n",
       "  <thead>\n",
       "    <tr style=\"text-align: right;\">\n",
       "      <th></th>\n",
       "      <th>all</th>\n",
       "      <th>our</th>\n",
       "      <th>over</th>\n",
       "      <th>remove</th>\n",
       "      <th>internet</th>\n",
       "      <th>order</th>\n",
       "      <th>receive</th>\n",
       "      <th>addresses</th>\n",
       "      <th>free</th>\n",
       "      <th>business</th>\n",
       "      <th>...</th>\n",
       "      <th>original</th>\n",
       "      <th>edu</th>\n",
       "      <th>average</th>\n",
       "      <th>font</th>\n",
       "      <th>cs</th>\n",
       "      <th>project</th>\n",
       "      <th>table</th>\n",
       "      <th>[</th>\n",
       "      <th>#</th>\n",
       "      <th>spam</th>\n",
       "    </tr>\n",
       "  </thead>\n",
       "  <tbody>\n",
       "    <tr>\n",
       "      <th>0</th>\n",
       "      <td>0.64</td>\n",
       "      <td>0.32</td>\n",
       "      <td>0.00</td>\n",
       "      <td>0.00</td>\n",
       "      <td>0.00</td>\n",
       "      <td>0.0</td>\n",
       "      <td>0.00</td>\n",
       "      <td>0.00</td>\n",
       "      <td>0.32</td>\n",
       "      <td>0.00</td>\n",
       "      <td>...</td>\n",
       "      <td>0.0</td>\n",
       "      <td>0.0</td>\n",
       "      <td>3.756</td>\n",
       "      <td>0.0</td>\n",
       "      <td>0.0</td>\n",
       "      <td>0.0</td>\n",
       "      <td>0.0</td>\n",
       "      <td>0.0</td>\n",
       "      <td>0.000</td>\n",
       "      <td>1</td>\n",
       "    </tr>\n",
       "    <tr>\n",
       "      <th>1</th>\n",
       "      <td>0.50</td>\n",
       "      <td>0.14</td>\n",
       "      <td>0.28</td>\n",
       "      <td>0.21</td>\n",
       "      <td>0.07</td>\n",
       "      <td>0.0</td>\n",
       "      <td>0.21</td>\n",
       "      <td>0.14</td>\n",
       "      <td>0.14</td>\n",
       "      <td>0.07</td>\n",
       "      <td>...</td>\n",
       "      <td>0.0</td>\n",
       "      <td>0.0</td>\n",
       "      <td>5.114</td>\n",
       "      <td>0.0</td>\n",
       "      <td>0.0</td>\n",
       "      <td>0.0</td>\n",
       "      <td>0.0</td>\n",
       "      <td>0.0</td>\n",
       "      <td>0.048</td>\n",
       "      <td>1</td>\n",
       "    </tr>\n",
       "  </tbody>\n",
       "</table>\n",
       "<p>2 rows × 32 columns</p>\n",
       "</div>"
      ],
      "text/plain": [
       "    all   our  over  remove  internet  order  receive  addresses  free  \\\n",
       "0  0.64  0.32  0.00    0.00      0.00    0.0     0.00       0.00  0.32   \n",
       "1  0.50  0.14  0.28    0.21      0.07    0.0     0.21       0.14  0.14   \n",
       "\n",
       "   business  ...  original  edu  average  font   cs  project  table    [  \\\n",
       "0      0.00  ...       0.0  0.0    3.756   0.0  0.0      0.0    0.0  0.0   \n",
       "1      0.07  ...       0.0  0.0    5.114   0.0  0.0      0.0    0.0  0.0   \n",
       "\n",
       "       #  spam  \n",
       "0  0.000     1  \n",
       "1  0.048     1  \n",
       "\n",
       "[2 rows x 32 columns]"
      ]
     },
     "execution_count": 70,
     "metadata": {},
     "output_type": "execute_result"
    }
   ],
   "source": [
    "data = pd.DataFrame(pd.read_csv(\"./spambase./cleaned_data.csv\", index_col=0))\n",
    "data.head(2)"
   ]
  },
  {
   "cell_type": "code",
   "execution_count": 71,
   "metadata": {},
   "outputs": [],
   "source": [
    "X = data[data.columns[:-1]]\n",
    "Y = data[data.columns[-1]]"
   ]
  },
  {
   "cell_type": "code",
   "execution_count": 105,
   "metadata": {},
   "outputs": [],
   "source": [
    "x_train, x_test, y_train, y_test = train_test_split(X, Y, test_size=0.3, random_state=42)\n",
    "accuracies = []\n",
    "train_times = []\n",
    "test_times = []\n",
    "reports = []\n"
   ]
  },
  {
   "cell_type": "code",
   "execution_count": 73,
   "metadata": {},
   "outputs": [
    {
     "name": "stdout",
     "output_type": "stream",
     "text": [
      "Best parameters for number of neightbors: {'n_neighbors': 3}\n",
      "least cross-validation errpr: 0.1993788819875777\n"
     ]
    }
   ],
   "source": [
    "\n",
    "\n",
    "param_grid = {'n_neighbors': np.arange(1, 31)}  # Trying values of k from 1 to 30\n",
    "knn = KNeighborsClassifier()\n",
    "grid_search = GridSearchCV(knn, param_grid, cv=10, scoring='accuracy')\n",
    "grid_search.fit(x_train, y_train)\n",
    "print(f\"Best parameters for number of neightbors: {grid_search.best_params_}\")\n",
    "print(f\"least cross-validation errpr: {1- grid_search.best_score_}\")\n"
   ]
  },
  {
   "cell_type": "code",
   "execution_count": 74,
   "metadata": {},
   "outputs": [
    {
     "name": "stdout",
     "output_type": "stream",
     "text": [
      "Best parameters : {'C': 100}\n",
      "least cross-validation errpr: 0.10341614906832297\n"
     ]
    }
   ],
   "source": [
    "def logistic_regression_cross_val(x_train, y_train):\n",
    "    param_grid = {'C': [0.01, 0.1, 1, 10, 100]}\n",
    "    log_reg = LogisticRegression(max_iter=10000, random_state=42)\n",
    "    grid_search = GridSearchCV(log_reg, param_grid, cv=5, scoring='accuracy')\n",
    "    grid_search.fit(x_train, y_train)\n",
    "    \n",
    "    best_params = grid_search.best_params_\n",
    "    best_model = grid_search.best_estimator_\n",
    "    \n",
    "    \n",
    "    return best_params, 1- grid_search.best_score_\n",
    "\n",
    "\n",
    "best_params, error = logistic_regression_cross_val(x_train, y_train)\n",
    "print(f\"Best parameters : {best_params}\")\n",
    "print(f\"least cross-validation errpr: {error}\")\n"
   ]
  },
  {
   "cell_type": "code",
   "execution_count": 75,
   "metadata": {},
   "outputs": [
    {
     "name": "stdout",
     "output_type": "stream",
     "text": [
      "Best parameters : {'max_depth': 10}\n",
      "least cross-validation errpr: 0.08757763975155286\n"
     ]
    }
   ],
   "source": [
    "def decision_tree_cross_val(X, y):\n",
    "    param_grid = {'max_depth': [None, 10, 20, 30, 40, 50]}\n",
    "    tree = DecisionTreeClassifier(random_state=42)\n",
    "    grid_search = GridSearchCV(tree, param_grid, cv=5, scoring='accuracy')\n",
    "    grid_search.fit(x_train, y_train)\n",
    "    \n",
    "    best_params = grid_search.best_params_\n",
    "    best_model = grid_search.best_estimator_\n",
    "    \n",
    "    \n",
    "    return best_params, 1- grid_search.best_score_\n",
    "\n",
    "best_params, error = decision_tree_cross_val(x_train, y_train)\n",
    "print(f\"Best parameters : {best_params}\")\n",
    "print(f\"least cross-validation errpr: {error}\")\n"
   ]
  },
  {
   "cell_type": "code",
   "execution_count": 76,
   "metadata": {},
   "outputs": [
    {
     "name": "stdout",
     "output_type": "stream",
     "text": [
      "Best parameters : {'max_depth': 20, 'n_estimators': 200}\n",
      "least cross-validation errpr: 0.05900621118012417\n"
     ]
    }
   ],
   "source": [
    "\n",
    "\n",
    "def random_forest_cross_val(X, y):\n",
    "    param_grid = {'n_estimators': [50, 100, 200], 'max_depth': [10, 20, 30, 40]}\n",
    "    rf = RandomForestClassifier(random_state=42)\n",
    "    grid_search = GridSearchCV(rf, param_grid, cv=5, scoring='accuracy')\n",
    "    grid_search.fit(X, y)\n",
    "    \n",
    "    best_params = grid_search.best_params_\n",
    "    best_model = grid_search.best_estimator_\n",
    "    \n",
    "    return best_params, 1- grid_search.best_score_\n",
    "\n",
    "best_params, error = random_forest_cross_val(x_train, y_train)\n",
    "print(f\"Best parameters : {best_params}\")\n",
    "print(f\"least cross-validation errpr: {error}\")"
   ]
  },
  {
   "cell_type": "code",
   "execution_count": 77,
   "metadata": {},
   "outputs": [
    {
     "name": "stdout",
     "output_type": "stream",
     "text": [
      "Best parameters : {'learning_rate': 0.1, 'n_estimators': 200}\n",
      "least cross-validation errpr: 0.0689440993788819\n"
     ]
    }
   ],
   "source": [
    "\n",
    "\n",
    "def adaboost_cross_val(X, y):\n",
    "    param_grid = {'n_estimators': [50, 100, 200], 'learning_rate': [0.01, 0.1, 1]}\n",
    "    adaboost = AdaBoostClassifier(random_state=42)\n",
    "    grid_search = GridSearchCV(adaboost, param_grid, cv=5, scoring='accuracy')\n",
    "    grid_search.fit(X, y)\n",
    "    \n",
    "    best_params = grid_search.best_params_\n",
    "    best_model = grid_search.best_estimator_\n",
    "    \n",
    "    return best_params, 1- grid_search.best_score_\n",
    "\n",
    "best_params, error = adaboost_cross_val(x_train, y_train)\n",
    "print(f\"Best parameters : {best_params}\")\n",
    "print(f\"least cross-validation errpr: {error}\")\n"
   ]
  },
  {
   "cell_type": "code",
   "execution_count": null,
   "metadata": {},
   "outputs": [],
   "source": []
  },
  {
   "cell_type": "code",
   "execution_count": 49,
   "metadata": {},
   "outputs": [
    {
     "name": "stderr",
     "output_type": "stream",
     "text": [
      "c:\\ProgramData\\anaconda3\\lib\\site-packages\\sklearn\\model_selection\\_search.py:307: UserWarning: The total space of parameters 5 is smaller than n_iter=20. Running 5 iterations. For exhaustive searches, use GridSearchCV.\n",
      "  warnings.warn(\n",
      "c:\\ProgramData\\anaconda3\\lib\\site-packages\\sklearn\\svm\\_base.py:297: ConvergenceWarning: Solver terminated early (max_iter=1000000).  Consider pre-processing your data with StandardScaler or MinMaxScaler.\n",
      "  warnings.warn(\n",
      "c:\\ProgramData\\anaconda3\\lib\\site-packages\\sklearn\\svm\\_base.py:297: ConvergenceWarning: Solver terminated early (max_iter=1000000).  Consider pre-processing your data with StandardScaler or MinMaxScaler.\n",
      "  warnings.warn(\n",
      "c:\\ProgramData\\anaconda3\\lib\\site-packages\\sklearn\\svm\\_base.py:297: ConvergenceWarning: Solver terminated early (max_iter=1000000).  Consider pre-processing your data with StandardScaler or MinMaxScaler.\n",
      "  warnings.warn(\n",
      "c:\\ProgramData\\anaconda3\\lib\\site-packages\\sklearn\\svm\\_base.py:297: ConvergenceWarning: Solver terminated early (max_iter=1000000).  Consider pre-processing your data with StandardScaler or MinMaxScaler.\n",
      "  warnings.warn(\n",
      "c:\\ProgramData\\anaconda3\\lib\\site-packages\\sklearn\\svm\\_base.py:297: ConvergenceWarning: Solver terminated early (max_iter=1000000).  Consider pre-processing your data with StandardScaler or MinMaxScaler.\n",
      "  warnings.warn(\n",
      "c:\\ProgramData\\anaconda3\\lib\\site-packages\\sklearn\\svm\\_base.py:297: ConvergenceWarning: Solver terminated early (max_iter=1000000).  Consider pre-processing your data with StandardScaler or MinMaxScaler.\n",
      "  warnings.warn(\n",
      "c:\\ProgramData\\anaconda3\\lib\\site-packages\\sklearn\\svm\\_base.py:297: ConvergenceWarning: Solver terminated early (max_iter=1000000).  Consider pre-processing your data with StandardScaler or MinMaxScaler.\n",
      "  warnings.warn(\n",
      "c:\\ProgramData\\anaconda3\\lib\\site-packages\\sklearn\\svm\\_base.py:297: ConvergenceWarning: Solver terminated early (max_iter=1000000).  Consider pre-processing your data with StandardScaler or MinMaxScaler.\n",
      "  warnings.warn(\n",
      "c:\\ProgramData\\anaconda3\\lib\\site-packages\\sklearn\\svm\\_base.py:297: ConvergenceWarning: Solver terminated early (max_iter=1000000).  Consider pre-processing your data with StandardScaler or MinMaxScaler.\n",
      "  warnings.warn(\n",
      "c:\\ProgramData\\anaconda3\\lib\\site-packages\\sklearn\\svm\\_base.py:297: ConvergenceWarning: Solver terminated early (max_iter=1000000).  Consider pre-processing your data with StandardScaler or MinMaxScaler.\n",
      "  warnings.warn(\n",
      "c:\\ProgramData\\anaconda3\\lib\\site-packages\\sklearn\\svm\\_base.py:297: ConvergenceWarning: Solver terminated early (max_iter=1000000).  Consider pre-processing your data with StandardScaler or MinMaxScaler.\n",
      "  warnings.warn(\n",
      "c:\\ProgramData\\anaconda3\\lib\\site-packages\\sklearn\\svm\\_base.py:297: ConvergenceWarning: Solver terminated early (max_iter=1000000).  Consider pre-processing your data with StandardScaler or MinMaxScaler.\n",
      "  warnings.warn(\n",
      "c:\\ProgramData\\anaconda3\\lib\\site-packages\\sklearn\\svm\\_base.py:297: ConvergenceWarning: Solver terminated early (max_iter=1000000).  Consider pre-processing your data with StandardScaler or MinMaxScaler.\n",
      "  warnings.warn(\n",
      "c:\\ProgramData\\anaconda3\\lib\\site-packages\\sklearn\\svm\\_base.py:297: ConvergenceWarning: Solver terminated early (max_iter=1000000).  Consider pre-processing your data with StandardScaler or MinMaxScaler.\n",
      "  warnings.warn(\n",
      "c:\\ProgramData\\anaconda3\\lib\\site-packages\\sklearn\\svm\\_base.py:297: ConvergenceWarning: Solver terminated early (max_iter=1000000).  Consider pre-processing your data with StandardScaler or MinMaxScaler.\n",
      "  warnings.warn(\n",
      "c:\\ProgramData\\anaconda3\\lib\\site-packages\\sklearn\\svm\\_base.py:297: ConvergenceWarning: Solver terminated early (max_iter=1000000).  Consider pre-processing your data with StandardScaler or MinMaxScaler.\n",
      "  warnings.warn(\n",
      "c:\\ProgramData\\anaconda3\\lib\\site-packages\\sklearn\\svm\\_base.py:297: ConvergenceWarning: Solver terminated early (max_iter=1000000).  Consider pre-processing your data with StandardScaler or MinMaxScaler.\n",
      "  warnings.warn(\n",
      "c:\\ProgramData\\anaconda3\\lib\\site-packages\\sklearn\\svm\\_base.py:297: ConvergenceWarning: Solver terminated early (max_iter=1000000).  Consider pre-processing your data with StandardScaler or MinMaxScaler.\n",
      "  warnings.warn(\n",
      "c:\\ProgramData\\anaconda3\\lib\\site-packages\\sklearn\\svm\\_base.py:297: ConvergenceWarning: Solver terminated early (max_iter=1000000).  Consider pre-processing your data with StandardScaler or MinMaxScaler.\n",
      "  warnings.warn(\n",
      "c:\\ProgramData\\anaconda3\\lib\\site-packages\\sklearn\\svm\\_base.py:297: ConvergenceWarning: Solver terminated early (max_iter=1000000).  Consider pre-processing your data with StandardScaler or MinMaxScaler.\n",
      "  warnings.warn(\n",
      "c:\\ProgramData\\anaconda3\\lib\\site-packages\\sklearn\\svm\\_base.py:297: ConvergenceWarning: Solver terminated early (max_iter=1000000).  Consider pre-processing your data with StandardScaler or MinMaxScaler.\n",
      "  warnings.warn(\n",
      "c:\\ProgramData\\anaconda3\\lib\\site-packages\\sklearn\\svm\\_base.py:297: ConvergenceWarning: Solver terminated early (max_iter=1000000).  Consider pre-processing your data with StandardScaler or MinMaxScaler.\n",
      "  warnings.warn(\n",
      "c:\\ProgramData\\anaconda3\\lib\\site-packages\\sklearn\\svm\\_base.py:297: ConvergenceWarning: Solver terminated early (max_iter=1000000).  Consider pre-processing your data with StandardScaler or MinMaxScaler.\n",
      "  warnings.warn(\n",
      "c:\\ProgramData\\anaconda3\\lib\\site-packages\\sklearn\\svm\\_base.py:297: ConvergenceWarning: Solver terminated early (max_iter=1000000).  Consider pre-processing your data with StandardScaler or MinMaxScaler.\n",
      "  warnings.warn(\n",
      "c:\\ProgramData\\anaconda3\\lib\\site-packages\\sklearn\\svm\\_base.py:297: ConvergenceWarning: Solver terminated early (max_iter=1000000).  Consider pre-processing your data with StandardScaler or MinMaxScaler.\n",
      "  warnings.warn(\n"
     ]
    },
    {
     "name": "stdout",
     "output_type": "stream",
     "text": [
      "Best parameters : {'C': 0.1}\n",
      "Least cross-validation error: 0.11304347826086958\n"
     ]
    },
    {
     "name": "stderr",
     "output_type": "stream",
     "text": [
      "c:\\ProgramData\\anaconda3\\lib\\site-packages\\sklearn\\svm\\_base.py:297: ConvergenceWarning: Solver terminated early (max_iter=1000000).  Consider pre-processing your data with StandardScaler or MinMaxScaler.\n",
      "  warnings.warn(\n"
     ]
    }
   ],
   "source": [
    "\n",
    "\n",
    "def svm_linear_cross_val(X, y):\n",
    "    param_dist = {'C': [0.01, 0.1, 1, 10, 100]}\n",
    "    svm_linear = SVC(kernel='linear', max_iter=1000000, tol=1e-6, random_state=42)\n",
    "    rand_search = RandomizedSearchCV(svm_linear, param_distributions=param_dist, n_iter=20, cv=5, scoring='accuracy')\n",
    "    rand_search.fit(X, y)\n",
    "    \n",
    "    best_params = rand_search.best_params_\n",
    "\n",
    "    return best_params, 1 - rand_search.best_score_\n",
    "\n",
    "best_params, error = svm_linear_cross_val(x_train, y_train)\n",
    "print(f\"Best parameters : {best_params}\")\n",
    "print(f\"Least cross-validation error: {error}\")\n"
   ]
  },
  {
   "cell_type": "code",
   "execution_count": 50,
   "metadata": {},
   "outputs": [
    {
     "name": "stdout",
     "output_type": "stream",
     "text": [
      "Best parameters : {'gamma': 0.001, 'C': 100}\n",
      "least cross-validation errpr: 0.11987577639751557\n"
     ]
    }
   ],
   "source": [
    "def svm_nonlinear_cross_val(X, y):\n",
    "    param_dist = {'C': [0.01, 0.1, 1, 10, 100], 'gamma': [0.001, 0.01, 0.1, 1, 10]}\n",
    "    svm_rbf = SVC(kernel='rbf', max_iter=1000000, tol=1e-6, random_state=42)\n",
    "    rand_search = RandomizedSearchCV(svm_rbf, param_distributions=param_dist, n_iter=20, cv=5, scoring='accuracy')\n",
    "    rand_search.fit(X, y)\n",
    "    \n",
    "    best_params = rand_search.best_params_\n",
    "    best_model = rand_search.best_estimator_\n",
    "    \n",
    "    return best_params, 1- rand_search.best_score_\n",
    "\n",
    "best_params, error = svm_nonlinear_cross_val(x_train, y_train)\n",
    "print(f\"Best parameters : {best_params}\")\n",
    "print(f\"least cross-validation errpr: {error}\")\n",
    "\n"
   ]
  },
  {
   "cell_type": "code",
   "execution_count": 106,
   "metadata": {},
   "outputs": [],
   "source": [
    "knn_model = KNeighborsClassifier(n_neighbors=3)\n",
    "\n",
    "start_time = time.time()\n",
    "knn_model.fit(x_train, y_train)\n",
    "end_time = time.time()\n",
    "training_time_knn = end_time - start_time\n",
    "train_times.append(training_time_knn)\n",
    "\n",
    "start_time = time.time()\n",
    "y_pred_knn = knn_model.predict(x_test)\n",
    "end_time = time.time()\n",
    "test_time_knn = end_time - start_time\n",
    "test_times.append(test_time_knn)\n",
    "\n",
    "accuracy_knn = accuracy_score(y_test, y_pred_knn)\n",
    "accuracies.append(accuracy_knn)\n",
    "\n",
    "report_knn = classification_report(y_test, y_pred_knn, target_names=[\"1\",\"0\"])\n",
    "reports.append(report_knn)\n"
   ]
  },
  {
   "cell_type": "code",
   "execution_count": 107,
   "metadata": {},
   "outputs": [
    {
     "name": "stderr",
     "output_type": "stream",
     "text": [
      "c:\\ProgramData\\anaconda3\\lib\\site-packages\\sklearn\\svm\\_base.py:297: ConvergenceWarning: Solver terminated early (max_iter=10000).  Consider pre-processing your data with StandardScaler or MinMaxScaler.\n",
      "  warnings.warn(\n"
     ]
    }
   ],
   "source": [
    "\n",
    "svm_linear_model = SVC(kernel='linear', C=0.1, max_iter=10000, tol=0.00001, random_state=42)\n",
    "\n",
    "start_time = time.time()\n",
    "svm_linear_model.fit(x_train, y_train)\n",
    "end_time = time.time()\n",
    "training_time_svm_linear = end_time - start_time\n",
    "train_times.append(training_time_svm_linear)\n",
    "\n",
    "start_time = time.time()\n",
    "y_pred_svm_linear = svm_linear_model.predict(x_test)\n",
    "end_time = time.time()\n",
    "test_time_svm_linear = end_time - start_time\n",
    "test_times.append(test_time_svm_linear)\n",
    "\n",
    "accuracy_svm_linear = accuracy_score(y_test, y_pred_svm_linear)\n",
    "accuracies.append(accuracy_svm_linear)\n",
    "\n",
    "report_svm_linear = classification_report(y_test, y_pred_svm_linear, target_names=[\"1\", \"0\"])\n",
    "reports.append(report_svm_linear)\n"
   ]
  },
  {
   "cell_type": "code",
   "execution_count": 108,
   "metadata": {},
   "outputs": [
    {
     "name": "stderr",
     "output_type": "stream",
     "text": [
      "c:\\ProgramData\\anaconda3\\lib\\site-packages\\sklearn\\svm\\_base.py:297: ConvergenceWarning: Solver terminated early (max_iter=10000).  Consider pre-processing your data with StandardScaler or MinMaxScaler.\n",
      "  warnings.warn(\n"
     ]
    }
   ],
   "source": [
    "\n",
    "svm_nonlinear_model = SVC(kernel='rbf', C= 100, gamma=0.001, max_iter=10000, tol=0.000001, random_state=42)\n",
    "\n",
    "\n",
    "start_time = time.time()\n",
    "svm_nonlinear_model.fit(x_train, y_train)\n",
    "end_time = time.time()\n",
    "training_time_svm_nonlinear = end_time - start_time\n",
    "train_times.append(training_time_svm_nonlinear)\n",
    "\n",
    "\n",
    "start_time = time.time()\n",
    "y_pred_svm_nonlinear = svm_nonlinear_model.predict(x_test)\n",
    "end_time = time.time()\n",
    "test_time_svm_nonlinear = end_time - start_time\n",
    "test_times.append(test_time_svm_nonlinear)\n",
    "\n",
    "\n",
    "accuracy_svm_nonlinear = accuracy_score(y_test, y_pred_svm_nonlinear)\n",
    "accuracies.append(accuracy_svm_nonlinear)\n",
    "\n",
    "report_svm_nonlinear = classification_report(y_test, y_pred_svm_nonlinear, target_names=[\"1\", \"0\"])\n",
    "reports.append(report_svm_nonlinear)\n"
   ]
  },
  {
   "cell_type": "code",
   "execution_count": 109,
   "metadata": {},
   "outputs": [],
   "source": [
    "lr_model = LogisticRegression(max_iter=10000,tol=0.00001, random_state=42, C=100)\n",
    "\n",
    "start_time = time.time()\n",
    "lr_model.fit(x_train, y_train)\n",
    "end_time = time.time()\n",
    "training_time_lr = end_time - start_time\n",
    "train_times.append(training_time_lr)\n",
    "\n",
    "start_time = time.time()\n",
    "y_pred_lr = lr_model.predict(x_test)\n",
    "end_time = time.time()\n",
    "test_time_lr = end_time - start_time\n",
    "test_times.append(test_time_lr)\n",
    "\n",
    "accuracy_lr = accuracy_score(y_test, y_pred_lr)\n",
    "accuracies.append(accuracy_lr)\n",
    "\n",
    "report_lr = classification_report(y_test, y_pred_lr, target_names=[\"1\",\"0\"])\n",
    "reports.append(report_lr)\n"
   ]
  },
  {
   "cell_type": "code",
   "execution_count": 110,
   "metadata": {},
   "outputs": [],
   "source": [
    "nb_model = GaussianNB()\n",
    "\n",
    "start_time = time.time()\n",
    "nb_model.fit(x_train, y_train)\n",
    "end_time = time.time()\n",
    "training_time_nb = end_time - start_time\n",
    "train_times.append(training_time_nb)\n",
    "\n",
    "start_time = time.time()\n",
    "y_pred_nb = nb_model.predict(x_test)\n",
    "end_time = time.time()\n",
    "test_time_nb = end_time - start_time\n",
    "test_times.append(test_time_nb)\n",
    "\n",
    "accuracy_nb = accuracy_score(y_test, y_pred_nb)\n",
    "accuracies.append(accuracy_nb)\n",
    "\n",
    "report_nb = classification_report(y_test, y_pred_nb, target_names=[\"1\",\"0\"])\n",
    "reports.append(report_nb)\n"
   ]
  },
  {
   "cell_type": "code",
   "execution_count": 111,
   "metadata": {},
   "outputs": [],
   "source": [
    "dc_model = DecisionTreeClassifier(max_depth=10,random_state=42)\n",
    "\n",
    "start_time = time.time()\n",
    "dc_model.fit(x_train, y_train)\n",
    "end_time = time.time()\n",
    "training_time_dc = end_time - start_time\n",
    "train_times.append(training_time_dc)\n",
    "\n",
    "start_time = time.time()\n",
    "y_pred_dc = dc_model.predict(x_test)\n",
    "end_time = time.time()\n",
    "test_time_dc = end_time - start_time\n",
    "test_times.append(test_time_dc)\n",
    "\n",
    "accuracy_dc = accuracy_score(y_test, y_pred_dc)\n",
    "accuracies.append(accuracy_dc)\n",
    "\n",
    "report_dc = classification_report(y_test, y_pred_dc, target_names=[\"1\",\"0\"])\n",
    "reports.append(report_dc)\n"
   ]
  },
  {
   "cell_type": "code",
   "execution_count": 112,
   "metadata": {},
   "outputs": [],
   "source": [
    "ab_model = AdaBoostClassifier(learning_rate = 0.1, n_estimators = 200, random_state=42)\n",
    "\n",
    "start_time = time.time()\n",
    "ab_model.fit(x_train, y_train)\n",
    "end_time = time.time()\n",
    "training_time_ab = end_time - start_time\n",
    "train_times.append(training_time_ab)\n",
    "\n",
    "start_time = time.time()\n",
    "y_pred_ab = ab_model.predict(x_test)\n",
    "end_time = time.time()\n",
    "test_time_ab = end_time - start_time\n",
    "test_times.append(test_time_ab)\n",
    "\n",
    "accuracy_ab = accuracy_score(y_test, y_pred_ab)\n",
    "accuracies.append(accuracy_ab)\n",
    "\n",
    "report_ab = classification_report(y_test, y_pred_ab, target_names=[\"1\",\"0\"])\n",
    "reports.append(report_ab)\n",
    "\n"
   ]
  },
  {
   "cell_type": "code",
   "execution_count": 113,
   "metadata": {},
   "outputs": [],
   "source": [
    "rf_model = RandomForestClassifier(n_estimators=200, max_depth=20, random_state=42)\n",
    "\n",
    "start_time = time.time()\n",
    "rf_model.fit(x_train, y_train)\n",
    "end_time = time.time()\n",
    "training_time_rf = end_time - start_time\n",
    "train_times.append(training_time_rf)\n",
    "\n",
    "start_time = time.time()\n",
    "y_pred_rf = rf_model.predict(x_test)\n",
    "end_time = time.time()\n",
    "test_time_rf= end_time - start_time\n",
    "test_times.append(test_time_rf)\n",
    "\n",
    "accuracy_rf = accuracy_score(y_test, y_pred_rf)\n",
    "accuracies.append(accuracy_rf)\n",
    "\n",
    "report_rf = classification_report(y_test, y_pred_rf, target_names=[\"1\",\"0\"])\n",
    "reports.append(report_rf)\n"
   ]
  },
  {
   "cell_type": "code",
   "execution_count": 114,
   "metadata": {},
   "outputs": [],
   "source": [
    "oreder = [\"KNN\", \"SVM linear\",\"SVM non_linear\", \"LogisticRegression\", \"NaiveBayes\", \"DecisionTree\", \"AdaBoost\", \"RandomForrest\"]"
   ]
  },
  {
   "cell_type": "code",
   "execution_count": 115,
   "metadata": {},
   "outputs": [
    {
     "name": "stdout",
     "output_type": "stream",
     "text": [
      "KNN classification report : \n",
      "              precision    recall  f1-score   support\n",
      "\n",
      "           1       0.78      0.85      0.81       804\n",
      "           0       0.76      0.67      0.71       577\n",
      "\n",
      "    accuracy                           0.77      1381\n",
      "   macro avg       0.77      0.76      0.76      1381\n",
      "weighted avg       0.77      0.77      0.77      1381\n",
      "\n",
      "\n",
      "************************************************************************************************************************************************************************************************************************************************************************************************************\n",
      "SVM linear classification report : \n",
      "              precision    recall  f1-score   support\n",
      "\n",
      "           1       0.91      0.38      0.53       804\n",
      "           0       0.52      0.95      0.67       577\n",
      "\n",
      "    accuracy                           0.62      1381\n",
      "   macro avg       0.72      0.66      0.60      1381\n",
      "weighted avg       0.75      0.62      0.59      1381\n",
      "\n",
      "\n",
      "************************************************************************************************************************************************************************************************************************************************************************************************************\n",
      "SVM non_linear classification report : \n",
      "              precision    recall  f1-score   support\n",
      "\n",
      "           1       0.89      0.92      0.90       804\n",
      "           0       0.88      0.84      0.86       577\n",
      "\n",
      "    accuracy                           0.88      1381\n",
      "   macro avg       0.88      0.88      0.88      1381\n",
      "weighted avg       0.88      0.88      0.88      1381\n",
      "\n",
      "\n",
      "************************************************************************************************************************************************************************************************************************************************************************************************************\n",
      "LogisticRegression classification report : \n",
      "              precision    recall  f1-score   support\n",
      "\n",
      "           1       0.89      0.95      0.92       804\n",
      "           0       0.93      0.83      0.88       577\n",
      "\n",
      "    accuracy                           0.90      1381\n",
      "   macro avg       0.91      0.89      0.90      1381\n",
      "weighted avg       0.90      0.90      0.90      1381\n",
      "\n",
      "\n",
      "************************************************************************************************************************************************************************************************************************************************************************************************************\n",
      "NaiveBayes classification report : \n",
      "              precision    recall  f1-score   support\n",
      "\n",
      "           1       0.95      0.81      0.87       804\n",
      "           0       0.78      0.94      0.85       577\n",
      "\n",
      "    accuracy                           0.86      1381\n",
      "   macro avg       0.86      0.87      0.86      1381\n",
      "weighted avg       0.88      0.86      0.86      1381\n",
      "\n",
      "\n",
      "************************************************************************************************************************************************************************************************************************************************************************************************************\n",
      "DecisionTree classification report : \n",
      "              precision    recall  f1-score   support\n",
      "\n",
      "           1       0.91      0.95      0.93       804\n",
      "           0       0.93      0.87      0.90       577\n",
      "\n",
      "    accuracy                           0.92      1381\n",
      "   macro avg       0.92      0.91      0.91      1381\n",
      "weighted avg       0.92      0.92      0.91      1381\n",
      "\n",
      "\n",
      "************************************************************************************************************************************************************************************************************************************************************************************************************\n",
      "AdaBoost classification report : \n",
      "              precision    recall  f1-score   support\n",
      "\n",
      "           1       0.92      0.97      0.94       804\n",
      "           0       0.95      0.89      0.92       577\n",
      "\n",
      "    accuracy                           0.93      1381\n",
      "   macro avg       0.94      0.93      0.93      1381\n",
      "weighted avg       0.93      0.93      0.93      1381\n",
      "\n",
      "\n",
      "************************************************************************************************************************************************************************************************************************************************************************************************************\n",
      "RandomForrest classification report : \n",
      "              precision    recall  f1-score   support\n",
      "\n",
      "           1       0.94      0.97      0.95       804\n",
      "           0       0.95      0.91      0.93       577\n",
      "\n",
      "    accuracy                           0.94      1381\n",
      "   macro avg       0.94      0.94      0.94      1381\n",
      "weighted avg       0.94      0.94      0.94      1381\n",
      "\n",
      "\n",
      "************************************************************************************************************************************************************************************************************************************************************************************************************\n"
     ]
    }
   ],
   "source": [
    "for index, report in enumerate(reports):\n",
    "    print(oreder[index] + \" classification report : \")\n",
    "    print(report)\n",
    "    print(\"\")\n",
    "    print(\"*\"*300)\n",
    "    \n",
    "    "
   ]
  },
  {
   "cell_type": "code",
   "execution_count": 116,
   "metadata": {},
   "outputs": [
    {
     "name": "stdout",
     "output_type": "stream",
     "text": [
      "KNN accuracy : \n",
      "0.77335\n",
      "\n",
      "************************************************************************************************************************************************************************************************************************************************************************************************************\n",
      "SVM linear accuracy : \n",
      "0.61694\n",
      "\n",
      "************************************************************************************************************************************************************************************************************************************************************************************************************\n",
      "SVM non_linear accuracy : \n",
      "0.88269\n",
      "\n",
      "************************************************************************************************************************************************************************************************************************************************************************************************************\n",
      "LogisticRegression accuracy : \n",
      "0.90297\n",
      "\n",
      "************************************************************************************************************************************************************************************************************************************************************************************************************\n",
      "NaiveBayes accuracy : \n",
      "0.86169\n",
      "\n",
      "************************************************************************************************************************************************************************************************************************************************************************************************************\n",
      "DecisionTree accuracy : \n",
      "0.91528\n",
      "\n",
      "************************************************************************************************************************************************************************************************************************************************************************************************************\n",
      "AdaBoost accuracy : \n",
      "0.93338\n",
      "\n",
      "************************************************************************************************************************************************************************************************************************************************************************************************************\n",
      "RandomForrest accuracy : \n",
      "0.94135\n",
      "\n",
      "************************************************************************************************************************************************************************************************************************************************************************************************************\n"
     ]
    }
   ],
   "source": [
    "for index, acc in enumerate(accuracies):\n",
    "    print(oreder[index] + \" accuracy : \")\n",
    "    print(round(acc, 5))\n",
    "    print(\"\")\n",
    "    print(\"*\"*300)\n",
    "    \n",
    "    "
   ]
  },
  {
   "cell_type": "code",
   "execution_count": 117,
   "metadata": {},
   "outputs": [
    {
     "name": "stdout",
     "output_type": "stream",
     "text": [
      "KNN train time : \n",
      "0.006\n",
      "\n",
      "************************************************************************************************************************************************************************************************************************************************************************************************************\n",
      "SVM linear train time : \n",
      "0.26819\n",
      "\n",
      "************************************************************************************************************************************************************************************************************************************************************************************************************\n",
      "SVM non_linear train time : \n",
      "0.5895\n",
      "\n",
      "************************************************************************************************************************************************************************************************************************************************************************************************************\n",
      "LogisticRegression train time : \n",
      "1.25556\n",
      "\n",
      "************************************************************************************************************************************************************************************************************************************************************************************************************\n",
      "NaiveBayes train time : \n",
      "0.00534\n",
      "\n",
      "************************************************************************************************************************************************************************************************************************************************************************************************************\n",
      "DecisionTree train time : \n",
      "0.05489\n",
      "\n",
      "************************************************************************************************************************************************************************************************************************************************************************************************************\n",
      "AdaBoost train time : \n",
      "1.5074\n",
      "\n",
      "************************************************************************************************************************************************************************************************************************************************************************************************************\n",
      "RandomForrest train time : \n",
      "1.74253\n",
      "\n",
      "************************************************************************************************************************************************************************************************************************************************************************************************************\n"
     ]
    }
   ],
   "source": [
    "for index, trt in enumerate(train_times):\n",
    "    print(oreder[index] + \" train time : \")\n",
    "    print(round(trt,5))\n",
    "    print(\"\")\n",
    "    print(\"*\"*300)"
   ]
  },
  {
   "cell_type": "code",
   "execution_count": 118,
   "metadata": {},
   "outputs": [
    {
     "name": "stdout",
     "output_type": "stream",
     "text": [
      "KNN test time : \n",
      "0.12496\n",
      "\n",
      "************************************************************************************************************************************************************************************************************************************************************************************************************\n",
      "SVM linear test time : \n",
      "0.0313\n",
      "\n",
      "************************************************************************************************************************************************************************************************************************************************************************************************************\n",
      "SVM non_linear test time : \n",
      "0.22242\n",
      "\n",
      "************************************************************************************************************************************************************************************************************************************************************************************************************\n",
      "LogisticRegression test time : \n",
      "0.00251\n",
      "\n",
      "************************************************************************************************************************************************************************************************************************************************************************************************************\n",
      "NaiveBayes test time : \n",
      "0.0045\n",
      "\n",
      "************************************************************************************************************************************************************************************************************************************************************************************************************\n",
      "DecisionTree test time : \n",
      "0.00515\n",
      "\n",
      "************************************************************************************************************************************************************************************************************************************************************************************************************\n",
      "AdaBoost test time : \n",
      "0.07058\n",
      "\n",
      "************************************************************************************************************************************************************************************************************************************************************************************************************\n",
      "RandomForrest test time : \n",
      "0.04898\n",
      "\n",
      "************************************************************************************************************************************************************************************************************************************************************************************************************\n"
     ]
    }
   ],
   "source": [
    "for index, tet in enumerate(test_times):\n",
    "    print(oreder[index] + \" test time : \")\n",
    "    print(round(tet,5))\n",
    "    print(\"\")\n",
    "    print(\"*\"*300)"
   ]
  },
  {
   "cell_type": "code",
   "execution_count": null,
   "metadata": {},
   "outputs": [],
   "source": []
  },
  {
   "cell_type": "code",
   "execution_count": 119,
   "metadata": {},
   "outputs": [
    {
     "name": "stderr",
     "output_type": "stream",
     "text": [
      "C:\\Users\\User\\AppData\\Local\\Temp\\ipykernel_5316\\3238143367.py:9: UserWarning: FixedFormatter should only be used together with FixedLocator\n",
      "  ax.set_xticklabels(ax.get_xticklabels(), rotation=90)\n"
     ]
    },
    {
     "data": {
      "image/png": "[encoded data removed]",
      "text/plain": [
       "<Figure size 640x480 with 1 Axes>"
      ]
     },
     "metadata": {},
     "output_type": "display_data"
    }
   ],
   "source": [
    "d = {\n",
    "    \"l\" : oreder,\n",
    "    \"acc\" : accuracies\n",
    "    \n",
    "}\n",
    "ax = sns.barplot(x='l', y='acc', data=d)\n",
    "\n",
    "# Set x-axis label rotation to horizontal\n",
    "ax.set_xticklabels(ax.get_xticklabels(), rotation=90)\n",
    "\n",
    "plt.title('accuracies')\n",
    "plt.xlabel('algortihm')\n",
    "plt.ylabel('accuracy')\n",
    "plt.show()"
   ]
  },
  {
   "cell_type": "code",
   "execution_count": 120,
   "metadata": {},
   "outputs": [
    {
     "name": "stderr",
     "output_type": "stream",
     "text": [
      "C:\\Users\\User\\AppData\\Local\\Temp\\ipykernel_5316\\1868402088.py:9: UserWarning: FixedFormatter should only be used together with FixedLocator\n",
      "  ax.set_xticklabels(ax.get_xticklabels(), rotation=90)\n"
     ]
    },
    {
     "data": {
      "image/png": "[encoded data removed]",
      "text/plain": [
       "<Figure size 640x480 with 1 Axes>"
      ]
     },
     "metadata": {},
     "output_type": "display_data"
    }
   ],
   "source": [
    "d = {\n",
    "    \"l\" : oreder,\n",
    "    \"trt\" : train_times\n",
    "    \n",
    "}\n",
    "ax = sns.barplot(x='l', y='trt', data=d)\n",
    "\n",
    "# Set x-axis label rotation to horizontal\n",
    "ax.set_xticklabels(ax.get_xticklabels(), rotation=90)\n",
    "\n",
    "plt.title('train times')\n",
    "plt.xlabel('algortihm')\n",
    "plt.ylabel('train time')\n",
    "plt.show()"
   ]
  },
  {
   "cell_type": "code",
   "execution_count": 121,
   "metadata": {},
   "outputs": [
    {
     "name": "stderr",
     "output_type": "stream",
     "text": [
      "C:\\Users\\User\\AppData\\Local\\Temp\\ipykernel_5316\\3819797640.py:9: UserWarning: FixedFormatter should only be used together with FixedLocator\n",
      "  ax.set_xticklabels(ax.get_xticklabels(), rotation=90)\n"
     ]
    },
    {
     "data": {
      "image/png": "[encoded data removed]",
      "text/plain": [
       "<Figure size 640x480 with 1 Axes>"
      ]
     },
     "metadata": {},
     "output_type": "display_data"
    }
   ],
   "source": [
    "d = {\n",
    "    \"l\" : oreder,\n",
    "    \"tet\" : test_times\n",
    "    \n",
    "}\n",
    "ax = sns.barplot(x='l', y='tet', data=d)\n",
    "\n",
    "# Set x-axis label rotation to horizontal\n",
    "ax.set_xticklabels(ax.get_xticklabels(), rotation=90)\n",
    "\n",
    "plt.title('test times')\n",
    "plt.xlabel('algortihm')\n",
    "plt.ylabel('test time')\n",
    "plt.show()"
   ]
  },
  {
   "cell_type": "code",
   "execution_count": 122,
   "metadata": {},
   "outputs": [
    {
     "name": "stdout",
     "output_type": "stream",
     "text": [
      "For this  SPECIFIC dataset : \n",
      "\n",
      "train times :\n",
      " {'NaiveBayes': 0.005340576171875, 'KNN': 0.005997657775878906, 'DecisionTree': 0.054894208908081055, 'SVM linear': 0.26819419860839844, 'SVM non_linear': 0.5894958972930908, 'LogisticRegression': 1.255558967590332, 'AdaBoost': 1.5073988437652588, 'RandomForrest': 1.7425260543823242}\n",
      "\n",
      "************************************************************************************************************************************************************************************************************************************************************************************************************\n",
      "test times :\n",
      " {'LogisticRegression': 0.0025055408477783203, 'NaiveBayes': 0.004504203796386719, 'DecisionTree': 0.00514984130859375, 'SVM linear': 0.03130459785461426, 'RandomForrest': 0.048981666564941406, 'AdaBoost': 0.07058262825012207, 'KNN': 0.12496495246887207, 'SVM non_linear': 0.22241950035095215}\n",
      "\n",
      "************************************************************************************************************************************************************************************************************************************************************************************************************\n",
      "accuracies :\n",
      " {'RandomForrest': 0.941346850108617, 'AdaBoost': 0.9333816075307748, 'DecisionTree': 0.9152787834902245, 'LogisticRegression': 0.9029688631426502, 'SVM non_linear': 0.8826937002172339, 'NaiveBayes': 0.8616944243301955, 'KNN': 0.7733526430123099, 'SVM linear': 0.6169442433019551}\n"
     ]
    }
   ],
   "source": [
    "def create_dic(l, o):\n",
    "    d = {}\n",
    "    for index,item in enumerate(l):\n",
    "        d[o[index]] = item\n",
    "    return d\n",
    "\n",
    "dtrt = create_dic(train_times, oreder)\n",
    "\n",
    "dtEt = create_dic(test_times, oreder)\n",
    "\n",
    "dacc = create_dic(accuracies, oreder)\n",
    "\n",
    "print(\"For this  SPECIFIC dataset : \")\n",
    "print()\n",
    "print(\"train times :\\n\", dict(sorted(dtrt.items(), key=lambda item: item[1])))\n",
    "print()\n",
    "print(\"*\"*300)\n",
    "print(\"test times :\\n\", dict(sorted(dtEt.items(), key=lambda item: item[1])))\n",
    "print()\n",
    "print(\"*\"*300)\n",
    "print(\"accuracies :\\n\",  dict(sorted(dacc.items(), key=lambda item: item[1], reverse=True)))"
   ]
  },
  {
   "cell_type": "markdown",
   "metadata": {},
   "source": [
    "# conclusion \n",
    "\n",
    "# Training Time (Generally for all datasets ,Faster to Slower)\n",
    "\n",
    "* Naive Bayes\n",
    "* Logistic Regression\n",
    "* Decision Tree\n",
    "* K-Nearest Neighbors (KNN)\n",
    "* AdaBoost\n",
    "* Random Forest\n",
    "\n",
    "# Test Time (Generally for all datasets ,Faster to Slower)\n",
    "\n",
    "* Decision Tree\n",
    "* Naive Bayes\n",
    "* Logistic Regression\n",
    "* K-Nearest Neighbors (KNN)\n",
    "* AdaBoost\n",
    "* Random Forest\n",
    "\n",
    "\n",
    "# Accuracy Ranking (Generally for all datasets  ,High to Low)\n",
    "\n",
    "* Random Forest - Highest Accuracy\n",
    "* AdaBoost\n",
    "* Logistic Regression\n",
    "* Decision Tree\n",
    "* K-Nearest Neighbors (KNN)\n",
    "* Naive Bayes \n",
    "\n",
    "\n",
    "source : www.geeksforgeeks.com\n"
   ]
  },
  {
   "cell_type": "markdown",
   "metadata": {},
   "source": []
  },
  {
   "cell_type": "code",
   "execution_count": 123,
   "metadata": {},
   "outputs": [
    {
     "data": {
      "text/plain": [
       "Index(['all', 'our', 'over', 'remove', 'internet', 'order', 'receive',\n",
       "       'addresses', 'free', 'business', 'email', 'credit', '000', 'hp', 'hpl',\n",
       "       '!', '$', 'longest', 'total', 'address', 'telnet', 'technology',\n",
       "       'original', 'edu', 'average', 'font', 'cs', 'project', 'table', '[',\n",
       "       '#', 'spam'],\n",
       "      dtype='object')"
      ]
     },
     "execution_count": 123,
     "metadata": {},
     "output_type": "execute_result"
    }
   ],
   "source": [
    "data.columns"
   ]
  },
  {
   "cell_type": "code",
   "execution_count": null,
   "metadata": {},
   "outputs": [],
   "source": []
  },
  {
   "cell_type": "code",
   "execution_count": null,
   "metadata": {},
   "outputs": [],
   "source": []
  },
  {
   "cell_type": "code",
   "execution_count": null,
   "metadata": {},
   "outputs": [],
   "source": []
  },
  {
   "cell_type": "code",
   "execution_count": null,
   "metadata": {},
   "outputs": [],
   "source": []
  }
 ],
 "metadata": {
  "kernelspec": {
   "display_name": "base",
   "language": "python",
   "name": "python3"
  },
  "language_info": {
   "codemirror_mode": {
    "name": "ipython",
    "version": 3
   },
   "file_extension": ".py",
   "mimetype": "text/x-python",
   "name": "python",
   "nbconvert_exporter": "python",
   "pygments_lexer": "ipython3",
   "version": "3.10.13"
  }
 },
 "nbformat": 4,
 "nbformat_minor": 2
}
